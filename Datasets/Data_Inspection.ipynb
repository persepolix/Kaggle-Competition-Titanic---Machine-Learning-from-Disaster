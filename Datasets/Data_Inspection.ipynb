{
 "cells": [
  {
   "cell_type": "markdown",
   "id": "581f809d",
   "metadata": {},
   "source": [
    "## Set-up a virtual environment (venv) and use it on jupyter notebook"
   ]
  },
  {
   "cell_type": "markdown",
   "id": "0bda7214",
   "metadata": {},
   "source": [
    "At the beginning of a project is a good practice to create a cleaned virtual envionment where to instal the required packages"
   ]
  },
  {
   "cell_type": "code",
   "execution_count": null,
   "id": "27ae095f",
   "metadata": {},
   "outputs": [],
   "source": []
  }
 ],
 "metadata": {
  "kernelspec": {
   "display_name": "Python 3 (ipykernel)",
   "language": "python",
   "name": "python3"
  },
  "language_info": {
   "codemirror_mode": {
    "name": "ipython",
    "version": 3
   },
   "file_extension": ".py",
   "mimetype": "text/x-python",
   "name": "python",
   "nbconvert_exporter": "python",
   "pygments_lexer": "ipython3",
   "version": "3.9.7"
  }
 },
 "nbformat": 4,
 "nbformat_minor": 5
}
