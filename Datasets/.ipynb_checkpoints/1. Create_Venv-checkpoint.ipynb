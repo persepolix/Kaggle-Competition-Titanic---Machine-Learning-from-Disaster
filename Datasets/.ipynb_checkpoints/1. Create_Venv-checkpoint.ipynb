{
 "cells": [
  {
   "cell_type": "markdown",
   "id": "1adc2b64",
   "metadata": {},
   "source": [
    "# 1. Create Virtual Environment\n",
    "\n",
    "As a good practice before starting any new project is important to create a clean virtual environment where to install all the required packages"
   ]
  },
  {
   "cell_type": "markdown",
   "id": "dec79e9e",
   "metadata": {},
   "source": [
    "### Create VENV for jupyter notebook "
   ]
  },
  {
   "cell_type": "markdown",
   "id": "45fa029a",
   "metadata": {},
   "source": [
    "1) Open anaconda prompt and type: <br>\n",
    "> conda create --name my-titanic< <br>\n",
    "\n",
    "2) Activate VE: <br>\n",
    "> conda activate my-titanic\n",
    "\n",
    "3) Install ipykernel in the new environment: <br>\n",
    "> conda install -c anaconda ipykernel \n",
    "\n",
    "4) Install the new environment in ipykernel: <br>\n",
    "> python -m ipykernel install --user --name=my-titanic"
   ]
  },
  {
   "cell_type": "code",
   "execution_count": null,
   "id": "2a520528",
   "metadata": {},
   "outputs": [],
   "source": []
  }
 ],
 "metadata": {
  "kernelspec": {
   "display_name": "Python 3 (ipykernel)",
   "language": "python",
   "name": "python3"
  },
  "language_info": {
   "codemirror_mode": {
    "name": "ipython",
    "version": 3
   },
   "file_extension": ".py",
   "mimetype": "text/x-python",
   "name": "python",
   "nbconvert_exporter": "python",
   "pygments_lexer": "ipython3",
   "version": "3.9.7"
  }
 },
 "nbformat": 4,
 "nbformat_minor": 5
}
